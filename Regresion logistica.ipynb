{
  "nbformat": 4,
  "nbformat_minor": 0,
  "metadata": {
    "colab": {
      "name": "clase 3 ruben.ipynb",
      "provenance": []
    },
    "kernelspec": {
      "name": "python3",
      "display_name": "Python 3"
    }
  },
  "cells": [
    {
      "cell_type": "code",
      "metadata": {
        "id": "reCU19Ivtc25"
      },
      "source": [
        "# torch.nn es para redes neuronales\n",
        "#torch.optim es para atrear lo gradientes y hacer un back proapgation\n",
        "import torch\n",
        "import numpy as np\n",
        "import torch.nn as nn\n",
        "import torch.optim as optim\n",
        "\n",
        "import matplotlib.pyplot as plt\n"
      ],
      "execution_count": null,
      "outputs": []
    },
    {
      "cell_type": "code",
      "metadata": {
        "id": "22ndaFhUuj3t",
        "outputId": "120f77c7-5ffb-4eef-91cb-e3ffe092e6ad",
        "colab": {
          "base_uri": "https://localhost:8080/",
          "height": 282
        }
      },
      "source": [
        "car_prices = [5, 6, 7, 8, 9, 10]\n",
        "units_sold = [8.5, 8, 7.5, 7.0, 6.5, 6.0]\n",
        "\n",
        "plt.scatter(car_prices, units_sold)"
      ],
      "execution_count": null,
      "outputs": [
        {
          "output_type": "execute_result",
          "data": {
            "text/plain": [
              "<matplotlib.collections.PathCollection at 0x7ff29d936080>"
            ]
          },
          "metadata": {
            "tags": []
          },
          "execution_count": 3
        },
        {
          "output_type": "display_data",
          "data": {
            "image/png": "[encoded data removed]",
            "text/plain": [
              "<Figure size 432x288 with 1 Axes>"
            ]
          },
          "metadata": {
            "tags": [],
            "needs_background": "light"
          }
        }
      ]
    },
    {
      "cell_type": "code",
      "metadata": {
        "id": "HYZv-_oNuu2w",
        "outputId": "911d1130-bf7a-4898-8913-b102bb62aa16",
        "colab": {
          "base_uri": "https://localhost:8080/",
          "height": 119
        }
      },
      "source": [
        "# el rechape (-1, 1) es para ponerlo en formato y despues convertirlo a tensor\n",
        "prices_array = np.array(car_prices).reshape(-1, 1)\n",
        "units_array = np.array(units_sold).reshape(-1, 1)\n",
        "\n",
        "prices_array"
      ],
      "execution_count": null,
      "outputs": [
        {
          "output_type": "execute_result",
          "data": {
            "text/plain": [
              "array([[ 5],\n",
              "       [ 6],\n",
              "       [ 7],\n",
              "       [ 8],\n",
              "       [ 9],\n",
              "       [10]])"
            ]
          },
          "metadata": {
            "tags": []
          },
          "execution_count": 4
        }
      ]
    },
    {
      "cell_type": "code",
      "metadata": {
        "id": "z9si_JE4vQlt",
        "outputId": "e3a32d19-9781-4981-9498-c006ab27be8b",
        "colab": {
          "base_uri": "https://localhost:8080/",
          "height": 119
        }
      },
      "source": [
        "# de aqui convertimos el arreglo numpy a tensor y el metodo requires_grad_ convirte a gradientes\n",
        "\n",
        "# en ls unidades no necesito los gradientes porque es el target lo que voy a tratar de explicar\n",
        "prices = torch.from_numpy(prices_array).float().requires_grad_(True)\n",
        "units = torch.from_numpy(units_array).float()\n",
        "\n",
        "prices, prices.shape"
      ],
      "execution_count": null,
      "outputs": [
        {
          "output_type": "execute_result",
          "data": {
            "text/plain": [
              "(tensor([[ 5.],\n",
              "         [ 6.],\n",
              "         [ 7.],\n",
              "         [ 8.],\n",
              "         [ 9.],\n",
              "         [10.]], requires_grad=True), torch.Size([6, 1]))"
            ]
          },
          "metadata": {
            "tags": []
          },
          "execution_count": 6
        }
      ]
    },
    {
      "cell_type": "code",
      "metadata": {
        "id": "tmVJWTQQukei",
        "outputId": "98a4f2e5-ef68-4ee0-ae29-b6410b4cc10b",
        "colab": {
          "base_uri": "https://localhost:8080/",
          "height": 299
        }
      },
      "source": [
        "#optim.SDG es estocastic gradient descent\n",
        "model = nn.Linear(1, 1)\n",
        "\n",
        "loss_function = nn.MSELoss()\n",
        "\n",
        "optimizer = optim.SGD(model.parameters(), lr=0.015)\n",
        "\n",
        "losses = []\n",
        "iterations = 2000\n",
        "\n",
        "for i in range(iterations):\n",
        "  pred = model(prices)\n",
        "  loss = loss_function(pred, units)\n",
        "  losses.append(loss.data)\n",
        "  \n",
        "  optimizer.zero_grad()\n",
        "  loss.backward()\n",
        "  optimizer.step()\n",
        "\n",
        "print(float(loss))\n",
        "plt.plot(range(iterations), losses)"
      ],
      "execution_count": null,
      "outputs": [
        {
          "output_type": "stream",
          "text": [
            "0.017725715413689613\n"
          ],
          "name": "stdout"
        },
        {
          "output_type": "execute_result",
          "data": {
            "text/plain": [
              "[<matplotlib.lines.Line2D at 0x7ff29cc03978>]"
            ]
          },
          "metadata": {
            "tags": []
          },
          "execution_count": 7
        },
        {
          "output_type": "display_data",
          "data": {
            "image/png": "[encoded data removed]",
            "text/plain": [
              "<Figure size 432x288 with 1 Axes>"
            ]
          },
          "metadata": {
            "tags": [],
            "needs_background": "light"
          }
        }
      ]
    },
    {
      "cell_type": "code",
      "metadata": {
        "id": "7v00y0orZ_Pe"
      },
      "source": [
        "x = torch.Tensor([[14.0]])\n",
        "p = model(x)\n",
        "p "
      ],
      "execution_count": null,
      "outputs": []
    },
    {
      "cell_type": "markdown",
      "metadata": {
        "id": "IHS7c0P1YUIB"
      },
      "source": [
        "Regresion logística\n",
        "\n"
      ]
    },
    {
      "cell_type": "code",
      "metadata": {
        "id": "N_0gths_TqEX",
        "outputId": "12cb20a9-d646-4960-aab2-5edafc18316f",
        "colab": {
          "base_uri": "https://localhost:8080/",
          "height": 1000
        }
      },
      "source": [
        "# Se pone entre 2 diagonales la division porque se van a dividir en enteros si no nos datria un numero flotante\n",
        "n = 100\n",
        "h = n//2\n",
        "dimen = 2\n",
        "\n",
        "data = np.random.randn(n, dimen)*3\n",
        "data"
      ],
      "execution_count": null,
      "outputs": [
        {
          "output_type": "execute_result",
          "data": {
            "text/plain": [
              "array([[ 0.56579061,  2.76250866],\n",
              "       [ 4.786242  , -0.59052985],\n",
              "       [ 4.94871268,  0.3751282 ],\n",
              "       [-3.1970172 , -0.51253643],\n",
              "       [ 1.08863346,  4.60565183],\n",
              "       [-5.34647996, -4.93936252],\n",
              "       [ 4.70661731, -0.49189058],\n",
              "       [ 1.86044847,  4.72442589],\n",
              "       [-2.24755729,  3.23232484],\n",
              "       [-3.47407251, -0.06752247],\n",
              "       [ 1.68432707, -0.9734912 ],\n",
              "       [ 1.00457766,  3.96845272],\n",
              "       [ 3.9745002 , -4.10380049],\n",
              "       [ 0.70829837,  3.29328513],\n",
              "       [ 0.4949123 , -0.261814  ],\n",
              "       [ 1.50308363,  2.45830154],\n",
              "       [-1.71558467, -2.20336687],\n",
              "       [-2.15990519,  0.99246635],\n",
              "       [-3.58308437, -4.00165257],\n",
              "       [ 1.21212671, -2.76892587],\n",
              "       [-6.03754403,  2.06502715],\n",
              "       [ 1.90868889, -0.06857594],\n",
              "       [ 1.50250977,  1.82972835],\n",
              "       [-0.18666713, -0.85573173],\n",
              "       [ 1.90119612, -0.7842782 ],\n",
              "       [-3.65413799, -3.70022129],\n",
              "       [-2.35224448, -4.00450494],\n",
              "       [ 2.79299359,  1.70437005],\n",
              "       [ 3.73401948, -2.52372464],\n",
              "       [-3.29460415, -1.49819266],\n",
              "       [ 2.29229884,  1.57521323],\n",
              "       [ 0.73500183,  3.71078402],\n",
              "       [ 1.30759047, -2.61337555],\n",
              "       [ 2.92511753, -2.46468308],\n",
              "       [ 0.96887421,  2.11677334],\n",
              "       [ 2.1203221 ,  5.69790494],\n",
              "       [ 2.03168456, -2.18530488],\n",
              "       [ 4.79925107, -1.28128723],\n",
              "       [ 3.85960433, -2.95922484],\n",
              "       [-8.87080547, -3.05008079],\n",
              "       [-4.71878051, -6.21304392],\n",
              "       [-5.4943791 ,  0.51751111],\n",
              "       [-2.07066491,  2.67913845],\n",
              "       [-1.10267002, -0.84402077],\n",
              "       [ 0.18136031, -2.25699461],\n",
              "       [ 0.5980626 ,  4.13708579],\n",
              "       [-1.23274523,  2.52629448],\n",
              "       [ 0.25848084, -1.95398419],\n",
              "       [ 2.10610582,  1.34042977],\n",
              "       [-2.82063855,  1.26799359],\n",
              "       [-1.61656532, -0.35895996],\n",
              "       [ 1.60666551,  1.12402317],\n",
              "       [ 2.43695159,  4.81164013],\n",
              "       [ 1.60038097, -1.87530854],\n",
              "       [ 5.52054188, -0.50715673],\n",
              "       [ 3.01052433, -4.65632066],\n",
              "       [-0.99787753, -3.14749424],\n",
              "       [ 1.65237677, -2.45238805],\n",
              "       [ 2.97743707,  3.06006835],\n",
              "       [-3.31221772, -7.02007187],\n",
              "       [ 1.05497434, -0.19168124],\n",
              "       [-1.27826905,  1.14360255],\n",
              "       [ 1.57054104,  0.52996317],\n",
              "       [ 3.28600195,  6.27714923],\n",
              "       [-2.9394563 ,  2.59057026],\n",
              "       [-2.86008388,  0.4733944 ],\n",
              "       [-4.08680256, -1.44339896],\n",
              "       [-3.07093441,  2.92345091],\n",
              "       [-1.26709341, -3.13446738],\n",
              "       [ 1.11701025, -2.57070591],\n",
              "       [ 2.56820682,  1.89981657],\n",
              "       [-5.57105314,  1.83333247],\n",
              "       [ 0.65063233, -4.66498925],\n",
              "       [-0.06564411,  0.25858671],\n",
              "       [ 3.86073587,  2.32550007],\n",
              "       [-2.73693081,  2.19681547],\n",
              "       [ 0.43062914,  3.40502128],\n",
              "       [ 2.74088019,  0.90502758],\n",
              "       [-1.82313144, -7.47390555],\n",
              "       [ 1.91119401, -2.25070453],\n",
              "       [ 0.57741657,  0.95837211],\n",
              "       [-1.99528182,  0.6088762 ],\n",
              "       [ 0.87276465,  1.83755565],\n",
              "       [-2.88303649, -7.26549872],\n",
              "       [-2.50777691,  1.48500338],\n",
              "       [-1.1642153 , -1.28270631],\n",
              "       [-0.94221873, -0.91691205],\n",
              "       [-1.78638208, -8.00854831],\n",
              "       [ 1.96959088, -1.05251222],\n",
              "       [-0.91831837,  2.78403214],\n",
              "       [ 0.42783613,  0.72925184],\n",
              "       [-1.73123001, -0.63022685],\n",
              "       [-4.12708641, -4.42453805],\n",
              "       [ 2.41365181, -4.788279  ],\n",
              "       [-0.28227332,  4.68044649],\n",
              "       [-2.47945443,  1.41645279],\n",
              "       [-1.24298558, -0.42461093],\n",
              "       [-5.72565757,  1.77569494],\n",
              "       [ 4.20348977,  1.6846276 ],\n",
              "       [-5.0734193 , -1.33729554]])"
            ]
          },
          "metadata": {
            "tags": []
          },
          "execution_count": 4
        }
      ]
    },
    {
      "cell_type": "code",
      "metadata": {
        "id": "50YZ78GO3afQ",
        "outputId": "9b7c95f3-5e73-4f84-a509-175b0e16431e",
        "colab": {
          "base_uri": "https://localhost:8080/",
          "height": 282
        }
      },
      "source": [
        "plt.scatter(data[:,0], data[:,1])"
      ],
      "execution_count": null,
      "outputs": [
        {
          "output_type": "execute_result",
          "data": {
            "text/plain": [
              "<matplotlib.collections.PathCollection at 0x7f532f205748>"
            ]
          },
          "metadata": {
            "tags": []
          },
          "execution_count": 5
        },
        {
          "output_type": "display_data",
          "data": {
            "image/png": "[encoded data removed]",
            "text/plain": [
              "<Figure size 432x288 with 1 Axes>"
            ]
          },
          "metadata": {
            "tags": [],
            "needs_background": "light"
          }
        }
      ]
    },
    {
      "cell_type": "code",
      "metadata": {
        "id": "tGA0y46r3gwN"
      },
      "source": [
        "data[:h, :]= data[:h, :] - 3*np.ones((h, dimen))"
      ],
      "execution_count": null,
      "outputs": []
    },
    {
      "cell_type": "code",
      "metadata": {
        "id": "VWRpZqaL3ioI"
      },
      "source": [
        "data[h:, :]= data[h:, :] + 3*np.ones((h, dimen))"
      ],
      "execution_count": null,
      "outputs": []
    },
    {
      "cell_type": "code",
      "metadata": {
        "id": "I85FCLID3keO",
        "outputId": "66b0c314-1505-408c-cf1a-f1813e884690",
        "colab": {
          "base_uri": "https://localhost:8080/",
          "height": 284
        }
      },
      "source": [
        "colors = ['blue','red']\n",
        "\n",
        "color = np.array([colors[0]]*h + [colors[1]]*h).reshape(n)\n",
        "plt.scatter(data[:,0], data[:,1], c=color, s=75, alpha=0.6)"
      ],
      "execution_count": null,
      "outputs": [
        {
          "output_type": "execute_result",
          "data": {
            "text/plain": [
              "<matplotlib.collections.PathCollection at 0x7f532ece9e80>"
            ]
          },
          "metadata": {
            "tags": []
          },
          "execution_count": 8
        },
        {
          "output_type": "display_data",
          "data": {
            "image/png": "[encoded data removed]",
            "text/plain": [
              "<Figure size 432x288 with 1 Axes>"
            ]
          },
          "metadata": {
            "tags": [],
            "needs_background": "light"
          }
        }
      ]
    },
    {
      "cell_type": "code",
      "metadata": {
        "id": "wSl31GVZ3mXa"
      },
      "source": [
        "target = np.array([0]*h + [1]*h).reshape(n, 1)\n",
        "\n",
        "x = torch.from_numpy(data).float().requires_grad_(True)\n",
        "\n",
        "y = torch.from_numpy(target).float()\n",
        "\n",
        "x.shape, y.shape"
      ],
      "execution_count": null,
      "outputs": []
    },
    {
      "cell_type": "code",
      "metadata": {
        "id": "p92LAERr3oy7"
      },
      "source": [
        "model = nn.Sequential(\n",
        "          nn.Linear(2,1),\n",
        "          nn.Sigmoid()\n",
        "      )\n",
        "loss_function = nn.BCELoss()\n",
        "\n",
        "optimizer = optim.SGD(model.parameters(), lr=0.01)\n",
        "\n",
        "losses = []\n",
        "\n",
        "iterations = 2000\n",
        "\n",
        "for i in range(iterations):\n",
        "  result = model(x)\n",
        "  \n",
        "  loss = loss_function(result, y)\n",
        "  losses.append(loss.data)\n",
        "  \n",
        "  optimizer.zero_grad()\n",
        "  loss.backward()\n",
        "  \n",
        "  optimizer.step()\n",
        "\n",
        "plt.plot(range(iterations), losses)\n",
        "loss"
      ],
      "execution_count": null,
      "outputs": []
    },
    {
      "cell_type": "code",
      "metadata": {
        "id": "dIfRnRxH3qyt"
      },
      "source": [
        "blue = torch.Tensor([[-5, -6]])\n",
        "prediction = model(blue).data[0][0] > 0.5\n",
        "print(colors[prediction])\n",
        "\n",
        "red = torch.Tensor([[8, 6]])\n",
        "prediction = model(red).data[0][0] > 0.5\n",
        "print(colors[prediction])\n"
      ],
      "execution_count": null,
      "outputs": []
    },
    {
      "cell_type": "code",
      "metadata": {
        "id": "uxvinzEX3smT"
      },
      "source": [
        "w = list(model.parameters())\n",
        "w0 = w[0].data.numpy()\n",
        "w1 = w[1].data.numpy()\n",
        "\n",
        "plt.scatter(data[:,0], data[:,1], c=color, s=75, alpha=0.6)\n",
        "\n",
        "x_axis = np.linspace(-10, 10, n)\n",
        "y_axis = -(w1[0] + x_axis*w0[0][0]) / w0[0][1]\n",
        "plt.plot(x_axis, y_axis,'g--')"
      ],
      "execution_count": null,
      "outputs": []
    }
  ]
}